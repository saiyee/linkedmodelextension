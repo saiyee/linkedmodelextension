{
 "cells": [
  {
   "cell_type": "code",
   "execution_count": 1,
   "outputs": [],
   "source": [
    "import json\n",
    "import random\n",
    "\n",
    "import numpy as np\n",
    "from numpy import mean\n",
    "from numpy import std\n",
    "from sklearn.ensemble import GradientBoostingClassifier\n",
    "from sklearn.ensemble import RandomForestClassifier\n",
    "from sklearn.model_selection import RepeatedStratifiedKFold\n",
    "\n",
    "from config import ARMSTRADER, VCSLAM\n",
    "from util.parse import generate_dictionaries, generate_id_dict, encode_triples"
   ],
   "metadata": {
    "collapsed": false,
    "pycharm": {
     "name": "#%%\n"
    }
   }
  },
  {
   "cell_type": "code",
   "execution_count": 2,
   "outputs": [],
   "source": [
    "datasets = [\n",
    "            VCSLAM()\n",
    "            # ARMSTRADER()\n",
    "            ]"
   ],
   "metadata": {
    "collapsed": false,
    "pycharm": {
     "name": "#%%\n"
    }
   }
  },
  {
   "cell_type": "code",
   "execution_count": 3,
   "outputs": [],
   "source": [
    "dataset = datasets[0]\n",
    "vcslam = VCSLAM()\n",
    "with open(vcslam.PARSED_MODELS_PATH, 'r') as file:\n",
    "    vcslam_models = json.load(file)\n",
    "\n",
    "armstrader = ARMSTRADER()\n",
    "with open(armstrader.PARSED_MODELS_PATH, 'r') as file:\n",
    "    armstrader_models = json.load(file)\n",
    "\n",
    "# models = armstrader_models if dataset.identifier == \"armstrader\" else vcslam_models\n",
    "models = vcslam_models\n",
    "template = vcslam_models\n",
    "triples = []\n",
    "for model in models[:]:\n",
    "    for triple in model:\n",
    "        triples.append(tuple(triple))\n",
    "\n",
    "classes, predicates = generate_dictionaries(triples)\n",
    "classes_mapping = generate_id_dict(classes)\n",
    "predicates_mapping = generate_id_dict(predicates)\n"
   ],
   "metadata": {
    "collapsed": false,
    "pycharm": {
     "name": "#%%\n"
    }
   }
  },
  {
   "cell_type": "code",
   "execution_count": 4,
   "outputs": [
    {
     "data": {
      "text/plain": "2560"
     },
     "execution_count": 4,
     "metadata": {},
     "output_type": "execute_result"
    }
   ],
   "source": [
    "len(triples)"
   ],
   "metadata": {
    "collapsed": false,
    "pycharm": {
     "name": "#%%\n"
    }
   }
  },
  {
   "cell_type": "code",
   "execution_count": 5,
   "outputs": [],
   "source": [
    "def prepare_data(models_template, multiplier=1, classes_mapping=None, predicates_mapping=None, shuffle=False,\n",
    "                 triple_weights=None, verbose=False):\n",
    "    models = []\n",
    "    for i in range(multiplier):\n",
    "        models += models_template\n",
    "    if shuffle:\n",
    "        random.shuffle(models)\n",
    "\n",
    "    triples = []\n",
    "    for model in models[:]:\n",
    "        for triple in model:\n",
    "            triples.append(tuple(triple))\n",
    "\n",
    "    if triple_weights:\n",
    "        triples = modrel.reduce_relations(triples, triple_weights, verbose=verbose)\n",
    "    if not classes_mapping:\n",
    "        classes, predicates = generate_dictionaries(triples)\n",
    "        classes_mapping = generate_id_dict(classes)\n",
    "        predicates_mapping = generate_id_dict(predicates)\n",
    "    # print(\"training triples size\", len(train_triples))\n",
    "\n",
    "    encoded_triples = encode_triples(triples, classes_mapping, predicates_mapping)\n",
    "    X = encoded_triples[:, [0, 2]]\n",
    "    y = encoded_triples[:, 1]\n",
    "    # print(X.shape, y.shape)\n",
    "    # print(train_data, X,y)\n",
    "    return X, y"
   ],
   "metadata": {
    "collapsed": false,
    "pycharm": {
     "name": "#%%\n"
    }
   }
  },
  {
   "cell_type": "code",
   "execution_count": 6,
   "outputs": [],
   "source": [
    "import preprocess.modify_relations as modrel\n",
    "\n",
    "# triples = modrel.reduce_relations(triples, targets)\n",
    "\n",
    "#test_triples = random.sample(triples, floor(len(triples) / 10))\n",
    "# test_triples = [triple for triple in test_triples if triple[0] == 'http://schema.org/Offer' and triple[2] == str(XSD.string)]\n",
    "\n"
   ],
   "metadata": {
    "collapsed": false,
    "pycharm": {
     "name": "#%%\n"
    }
   }
  },
  {
   "cell_type": "code",
   "execution_count": 7,
   "outputs": [],
   "source": [
    "def calc_hits_mrr(model, predictions, reference, hits=None):\n",
    "    if hits is None:\n",
    "        hits = [3]\n",
    "    predictions = model.classes_[np.argsort(predictions)[:, ::-1]]\n",
    "    positions = []\n",
    "    for row in range(len(predictions)):\n",
    "        for i in range(predictions.shape[1]):\n",
    "            if predictions[row][i] == reference[row]:\n",
    "                positions.append(i)\n",
    "                break\n",
    "\n",
    "    positions = [1/(i + 1) for i in positions]\n",
    "    result = {}\n",
    "    result['mrr'] = np.mean(positions)\n",
    "    for value in hits:\n",
    "        hits_at_value = [1 if pos <= value else 0 for pos in positions]\n",
    "        result['hits@' + str(value)] = np.sum(hits_at_value) / len(hits_at_value)\n",
    "    return result\n"
   ],
   "metadata": {
    "collapsed": false,
    "pycharm": {
     "name": "#%%\n"
    }
   }
  },
  {
   "cell_type": "code",
   "execution_count": 8,
   "outputs": [],
   "source": [
    "n_jobs = -1\n",
    "\n",
    "ranges = [\n",
    "    1, 2,3\n",
    "    #,5, 10\n",
    "    ]"
   ],
   "metadata": {
    "collapsed": false,
    "pycharm": {
     "name": "#%%\n"
    }
   }
  },
  {
   "cell_type": "code",
   "execution_count": 9,
   "outputs": [],
   "source": [
    "%%capture\n",
    "from sklearn.model_selection import cross_validate\n",
    "\n",
    "cv = RepeatedStratifiedKFold(n_splits=5, n_repeats=1)\n",
    "# estimators = [10, 20, 30]\n",
    "estimators = [10]\n",
    "max_depths = [10,20]\n",
    "results = []\n",
    "for dataset in datasets:\n",
    "    for rng in ranges:\n",
    "        for estimator in estimators:\n",
    "            for depth in max_depths:\n",
    "                X, y = prepare_data(template, rng, classes_mapping=classes_mapping,\n",
    "                                    predicates_mapping=predicates_mapping)\n",
    "                rfc = RandomForestClassifier(n_estimators=estimator, max_depth=depth)\n",
    "                cv_results = cross_validate(rfc, X[:], y[:].reshape(-1), scoring='accuracy', cv=cv, n_jobs=n_jobs,\n",
    "                                            error_score='raise', return_estimator=True)\n",
    "                hits_3 = []\n",
    "                mrrs = []\n",
    "                for est in cv_results['estimator']:\n",
    "                    pred = est.predict_proba(X)\n",
    "                    hits_mrr = calc_hits_mrr(est, pred, y)\n",
    "                    hits_3.append(hits_mrr['hits@3'])\n",
    "                    mrrs.append(hits_mrr['mrr'])\n",
    "                scores = cv_results['test_score']\n",
    "                results.append([f'RFC {dataset.identifier} {rng} {estimator} {depth}', mean(scores), std(scores), mean(mrrs), std(mrrs), mean(hits_3), std(hits_3)])\n",
    "                #print(f'RFC {dataset.identifier} {rng} {estimator} | {mean(n_scores):.3f} ({std(n_scores):.3f})')\n"
   ],
   "metadata": {
    "collapsed": false,
    "pycharm": {
     "name": "#%%\n"
    }
   }
  },
  {
   "cell_type": "code",
   "execution_count": 10,
   "outputs": [
    {
     "data": {
      "text/plain": "[['RFC vcslam 3 10 20',\n  0.915234375,\n  0.006820729611306696,\n  1.173984375,\n  0.057163054030499004,\n  0.9953906250000001,\n  0.0005182226234930386],\n ['RFC vcslam 2 10 20',\n  0.8498046875,\n  0.014542586303895533,\n  1.6310937500000002,\n  0.12685022271918267,\n  0.9861718749999999,\n  0.0014532090029483154],\n ['RFC vcslam 3 10 10',\n  0.6865885416666667,\n  0.006848017600158685,\n  2.1434374999999997,\n  0.07231539671164433,\n  0.87265625,\n  0.006541073652792009],\n ['RFC vcslam 2 10 10',\n  0.655078125,\n  0.0068051763242907605,\n  2.323046875,\n  0.04165242269551983,\n  0.8645312500000001,\n  0.006420525253532639],\n ['RFC vcslam 1 10 20',\n  0.57421875,\n  0.011912461470294459,\n  4.120673761787963,\n  0.26787166091330245,\n  0.9369063276790082,\n  0.0022428387913397303],\n ['RFC vcslam 1 10 10',\n  0.5515625,\n  0.018879759333741516,\n  3.278944306455352,\n  0.23247652133866897,\n  0.858930836490563,\n  0.011825281582324293]]"
     },
     "execution_count": 10,
     "metadata": {},
     "output_type": "execute_result"
    }
   ],
   "source": [
    "results = sorted(results, key=lambda x: x[1], reverse=True)\n",
    "results[:10]"
   ],
   "metadata": {
    "collapsed": false,
    "pycharm": {
     "name": "#%%\n"
    }
   }
  },
  {
   "cell_type": "code",
   "execution_count": 11,
   "outputs": [
    {
     "name": "stderr",
     "output_type": "stream",
     "text": [
      "C:\\Software\\anaconda3\\envs\\semantic_rec\\lib\\site-packages\\sklearn\\model_selection\\_split.py:676: UserWarning: The least populated class in y has only 1 members, which is less than n_splits=5.\n",
      "  warnings.warn(\n",
      "C:\\Software\\anaconda3\\envs\\semantic_rec\\lib\\site-packages\\sklearn\\model_selection\\_split.py:676: UserWarning: The least populated class in y has only 2 members, which is less than n_splits=5.\n",
      "  warnings.warn(\n",
      "C:\\Software\\anaconda3\\envs\\semantic_rec\\lib\\site-packages\\sklearn\\model_selection\\_split.py:676: UserWarning: The least populated class in y has only 3 members, which is less than n_splits=5.\n",
      "  warnings.warn(\n"
     ]
    }
   ],
   "source": [
    "from sklearn.svm import SVC\n",
    "from sklearn.model_selection import GridSearchCV\n",
    "\n",
    "param_grid = [\n",
    "  #{'C': [100], 'kernel': ['linear']},\n",
    "  #{'C': [1, 10, 100, 1000], 'gamma': [0.001, 0.0001], 'kernel': ['rbf']},\n",
    "  {'C': [1, 10, 100, 1000], 'gamma': [0.001, 0.0001], 'kernel': ['rbf']},\n",
    " ]\n",
    "results = []\n",
    "for rng in ranges:\n",
    "    X,y = prepare_data(template,rng, classes_mapping=classes_mapping, predicates_mapping=predicates_mapping)\n",
    "    clf = GridSearchCV(estimator=SVC(),             param_grid=param_grid)\n",
    "    clf.fit(X,y)\n",
    "    result = clf.cv_results_\n",
    "    results.append(result)"
   ],
   "metadata": {
    "collapsed": false,
    "pycharm": {
     "name": "#%%\n"
    }
   }
  },
  {
   "cell_type": "code",
   "execution_count": 12,
   "outputs": [
    {
     "name": "stdout",
     "output_type": "stream",
     "text": [
      "[0.48125    0.4        0.49882813 0.44492188 0.51757812 0.4828125\n",
      " 0.53398437 0.49179688]\n",
      "[0.54277344 0.41894531 0.66171875 0.47695312 0.80761719 0.55976563\n",
      " 0.89316406 0.65957031]\n",
      "[0.58684896 0.43059896 0.7421875  0.50065104 0.85260417 0.59544271\n",
      " 0.91770833 0.71354167]\n"
     ]
    }
   ],
   "source": [
    "for result in results:\n",
    "    print(result['mean_test_score'])"
   ],
   "metadata": {
    "collapsed": false,
    "pycharm": {
     "name": "#%%\n"
    }
   }
  },
  {
   "cell_type": "code",
   "execution_count": 13,
   "outputs": [
    {
     "name": "stderr",
     "output_type": "stream",
     "text": [
      "C:\\Software\\anaconda3\\envs\\semantic_rec\\lib\\site-packages\\sklearn\\model_selection\\_split.py:676: UserWarning: The least populated class in y has only 1 members, which is less than n_splits=5.\n",
      "  warnings.warn(\n"
     ]
    },
    {
     "name": "stdout",
     "output_type": "stream",
     "text": [
      "{'mean_fit_time': array([0.13021531, 0.32398992, 0.64400234, 0.12640014, 0.3193996 ,\n",
      "       0.65459504, 0.12699814, 0.31341882, 0.63219733]), 'std_fit_time': array([0.0041335 , 0.01348019, 0.00452806, 0.00149832, 0.0106918 ,\n",
      "       0.007218  , 0.00269521, 0.0055228 , 0.01054075]), 'mean_score_time': array([0.01419153, 0.03621116, 0.07398896, 0.01459856, 0.03620477,\n",
      "       0.07440076, 0.01440177, 0.03559518, 0.07039585]), 'std_score_time': array([0.00040131, 0.0019339 , 0.00141364, 0.00049994, 0.00041434,\n",
      "       0.00344345, 0.00048705, 0.00049126, 0.00313351]), 'param_learning_rate': masked_array(data=[0.01, 0.01, 0.01, 0.1, 0.1, 0.1, 1.0, 1.0, 1.0],\n",
      "             mask=[False, False, False, False, False, False, False, False,\n",
      "                   False],\n",
      "       fill_value='?',\n",
      "            dtype=object), 'param_n_estimators': masked_array(data=[20, 50, 100, 20, 50, 100, 20, 50, 100],\n",
      "             mask=[False, False, False, False, False, False, False, False,\n",
      "                   False],\n",
      "       fill_value='?',\n",
      "            dtype=object), 'params': [{'learning_rate': 0.01, 'n_estimators': 20}, {'learning_rate': 0.01, 'n_estimators': 50}, {'learning_rate': 0.01, 'n_estimators': 100}, {'learning_rate': 0.1, 'n_estimators': 20}, {'learning_rate': 0.1, 'n_estimators': 50}, {'learning_rate': 0.1, 'n_estimators': 100}, {'learning_rate': 1.0, 'n_estimators': 20}, {'learning_rate': 1.0, 'n_estimators': 50}, {'learning_rate': 1.0, 'n_estimators': 100}], 'split0_test_score': array([0.28710938, 0.28710938, 0.25585938, 0.25      , 0.24023438,\n",
      "       0.28125   , 0.23632812, 0.23632812, 0.234375  ]), 'split1_test_score': array([0.23828125, 0.26757812, 0.265625  , 0.23828125, 0.234375  ,\n",
      "       0.23632812, 0.23828125, 0.23828125, 0.22460938]), 'split2_test_score': array([0.26367188, 0.19726562, 0.19726562, 0.19726562, 0.28320312,\n",
      "       0.27734375, 0.2265625 , 0.23046875, 0.23046875]), 'split3_test_score': array([0.25390625, 0.1953125 , 0.1953125 , 0.2265625 , 0.265625  ,\n",
      "       0.25585938, 0.25390625, 0.25390625, 0.25390625]), 'split4_test_score': array([0.23632812, 0.1953125 , 0.22851562, 0.22460938, 0.25      ,\n",
      "       0.20507812, 0.26757812, 0.26953125, 0.26953125]), 'mean_test_score': array([0.25585938, 0.22851562, 0.22851562, 0.22734375, 0.2546875 ,\n",
      "       0.25117187, 0.24453125, 0.24570312, 0.24257813]), 'std_test_score': array([0.01861114, 0.04034988, 0.02899585, 0.01758246, 0.01775518,\n",
      "       0.02813042, 0.01447949, 0.0142136 , 0.01668293]), 'rank_test_score': array([1, 7, 7, 9, 2, 3, 5, 4, 6])}\n"
     ]
    },
    {
     "name": "stderr",
     "output_type": "stream",
     "text": [
      "C:\\Software\\anaconda3\\envs\\semantic_rec\\lib\\site-packages\\sklearn\\model_selection\\_split.py:676: UserWarning: The least populated class in y has only 2 members, which is less than n_splits=5.\n",
      "  warnings.warn(\n"
     ]
    },
    {
     "name": "stdout",
     "output_type": "stream",
     "text": [
      "{'mean_fit_time': array([0.25539861, 0.6460041 , 1.31590142, 0.26460476, 0.66517019,\n",
      "       1.344029  , 0.2710259 , 0.64510708, 1.42349424]), 'std_fit_time': array([0.00650015, 0.02087913, 0.06320763, 0.00930426, 0.02322514,\n",
      "       0.06127836, 0.00752893, 0.01727119, 0.08913329]), 'mean_score_time': array([0.03579979, 0.08439755, 0.17879963, 0.03599577, 0.08978291,\n",
      "       0.18460135, 0.03728204, 0.08299603, 0.17780838]), 'std_score_time': array([0.00273189, 0.00366273, 0.01344696, 0.00167414, 0.00772851,\n",
      "       0.019097  , 0.00337696, 0.00179262, 0.00548457]), 'param_learning_rate': masked_array(data=[0.01, 0.01, 0.01, 0.1, 0.1, 0.1, 1.0, 1.0, 1.0],\n",
      "             mask=[False, False, False, False, False, False, False, False,\n",
      "                   False],\n",
      "       fill_value='?',\n",
      "            dtype=object), 'param_n_estimators': masked_array(data=[20, 50, 100, 20, 50, 100, 20, 50, 100],\n",
      "             mask=[False, False, False, False, False, False, False, False,\n",
      "                   False],\n",
      "       fill_value='?',\n",
      "            dtype=object), 'params': [{'learning_rate': 0.01, 'n_estimators': 20}, {'learning_rate': 0.01, 'n_estimators': 50}, {'learning_rate': 0.01, 'n_estimators': 100}, {'learning_rate': 0.1, 'n_estimators': 20}, {'learning_rate': 0.1, 'n_estimators': 50}, {'learning_rate': 0.1, 'n_estimators': 100}, {'learning_rate': 1.0, 'n_estimators': 20}, {'learning_rate': 1.0, 'n_estimators': 50}, {'learning_rate': 1.0, 'n_estimators': 100}], 'split0_test_score': array([0.25292969, 0.27734375, 0.24511719, 0.24511719, 0.28027344,\n",
      "       0.25      , 0.24902344, 0.24902344, 0.24902344]), 'split1_test_score': array([0.25976562, 0.19628906, 0.19628906, 0.23535156, 0.26171875,\n",
      "       0.27246094, 0.25488281, 0.25585938, 0.25585938]), 'split2_test_score': array([0.25097656, 0.27441406, 0.2421875 , 0.2421875 , 0.2578125 ,\n",
      "       0.26269531, 0.24707031, 0.24707031, 0.24707031]), 'split3_test_score': array([0.25097656, 0.19628906, 0.19628906, 0.19628906, 0.25390625,\n",
      "       0.28027344, 0.24316406, 0.24316406, 0.24316406]), 'split4_test_score': array([0.24511719, 0.19628906, 0.23144531, 0.23144531, 0.24902344,\n",
      "       0.25097656, 0.25390625, 0.25390625, 0.25390625]), 'mean_test_score': array([0.25195312, 0.228125  , 0.22226562, 0.23007812, 0.26054688,\n",
      "       0.26328125, 0.24960937, 0.24980469, 0.24980469]), 'std_test_score': array([0.00470375, 0.03900191, 0.02169288, 0.01757378, 0.01072264,\n",
      "       0.0118418 , 0.00434982, 0.00459711, 0.00459711]), 'rank_test_score': array([3, 8, 9, 7, 2, 1, 6, 4, 4])}\n"
     ]
    },
    {
     "name": "stderr",
     "output_type": "stream",
     "text": [
      "C:\\Software\\anaconda3\\envs\\semantic_rec\\lib\\site-packages\\sklearn\\model_selection\\_split.py:676: UserWarning: The least populated class in y has only 3 members, which is less than n_splits=5.\n",
      "  warnings.warn(\n"
     ]
    },
    {
     "name": "stdout",
     "output_type": "stream",
     "text": [
      "{'mean_fit_time': array([0.42039504, 1.0484971 , 1.97551169, 0.40022621, 1.01628847,\n",
      "       1.97769265, 0.38559546, 0.98613858, 2.00441055]), 'std_fit_time': array([0.02357065, 0.03208679, 0.0213534 , 0.00937289, 0.04189147,\n",
      "       0.01956654, 0.01262036, 0.02255652, 0.04392788]), 'mean_score_time': array([0.07687087, 0.19948492, 0.37573757, 0.07259398, 0.18008113,\n",
      "       0.36954789, 0.06919699, 0.17786918, 0.36415114]), 'std_score_time': array([0.0052501 , 0.01873053, 0.03036701, 0.00261036, 0.0030448 ,\n",
      "       0.01199584, 0.00074833, 0.00873743, 0.0102006 ]), 'param_learning_rate': masked_array(data=[0.01, 0.01, 0.01, 0.1, 0.1, 0.1, 1.0, 1.0, 1.0],\n",
      "             mask=[False, False, False, False, False, False, False, False,\n",
      "                   False],\n",
      "       fill_value='?',\n",
      "            dtype=object), 'param_n_estimators': masked_array(data=[20, 50, 100, 20, 50, 100, 20, 50, 100],\n",
      "             mask=[False, False, False, False, False, False, False, False,\n",
      "                   False],\n",
      "       fill_value='?',\n",
      "            dtype=object), 'params': [{'learning_rate': 0.01, 'n_estimators': 20}, {'learning_rate': 0.01, 'n_estimators': 50}, {'learning_rate': 0.01, 'n_estimators': 100}, {'learning_rate': 0.1, 'n_estimators': 20}, {'learning_rate': 0.1, 'n_estimators': 50}, {'learning_rate': 0.1, 'n_estimators': 100}, {'learning_rate': 1.0, 'n_estimators': 20}, {'learning_rate': 1.0, 'n_estimators': 50}, {'learning_rate': 1.0, 'n_estimators': 100}], 'split0_test_score': array([0.25651042, 0.19661458, 0.2421875 , 0.23893229, 0.2578125 ,\n",
      "       0.25716146, 0.24414062, 0.24414062, 0.24414062]), 'split1_test_score': array([0.25260417, 0.23958333, 0.23958333, 0.23111979, 0.25585938,\n",
      "       0.26106771, 0.2578125 , 0.2578125 , 0.2578125 ]), 'split2_test_score': array([0.25260417, 0.19661458, 0.23567708, 0.23372396, 0.25520833,\n",
      "       0.26367188, 0.2578125 , 0.25846354, 0.25846354]), 'split3_test_score': array([0.24674479, 0.27148438, 0.23958333, 0.234375  , 0.25      ,\n",
      "       0.25846354, 0.25195312, 0.25195312, 0.25195312]), 'split4_test_score': array([0.25130208, 0.19596354, 0.234375  , 0.23763021, 0.25455729,\n",
      "       0.26171875, 0.25585938, 0.25585938, 0.25585938]), 'mean_test_score': array([0.25195312, 0.22005208, 0.23828125, 0.23515625, 0.2546875 ,\n",
      "       0.26041667, 0.25351563, 0.25364583, 0.25364583]), 'std_test_score': array([0.00313583, 0.03067781, 0.00285272, 0.00280477, 0.00258456,\n",
      "       0.00232924, 0.0051527 , 0.0052666 , 0.0052666 ]), 'rank_test_score': array([6, 9, 7, 8, 2, 1, 5, 3, 3])}\n"
     ]
    }
   ],
   "source": [
    "from sklearn.ensemble import AdaBoostClassifier\n",
    "param_grid = [\n",
    "  {'n_estimators': [20, 50, 100], 'learning_rate': [0.01,0.1,1.0]}\n",
    " ]\n",
    "\n",
    "for rng in ranges:\n",
    "    X,y = prepare_data(template,rng, classes_mapping=classes_mapping, predicates_mapping=predicates_mapping)\n",
    "    clf = GridSearchCV(estimator=AdaBoostClassifier(),\n",
    "             param_grid=param_grid)\n",
    "    clf.fit(X,y)\n",
    "    result = clf.cv_results_\n",
    "    print(result)"
   ],
   "metadata": {
    "collapsed": false,
    "pycharm": {
     "name": "#%%\n"
    }
   }
  },
  {
   "cell_type": "code",
   "execution_count": 14,
   "outputs": [
    {
     "data": {
      "text/plain": "{'mean_fit_time': array([0.42039504, 1.0484971 , 1.97551169, 0.40022621, 1.01628847,\n        1.97769265, 0.38559546, 0.98613858, 2.00441055]),\n 'std_fit_time': array([0.02357065, 0.03208679, 0.0213534 , 0.00937289, 0.04189147,\n        0.01956654, 0.01262036, 0.02255652, 0.04392788]),\n 'mean_score_time': array([0.07687087, 0.19948492, 0.37573757, 0.07259398, 0.18008113,\n        0.36954789, 0.06919699, 0.17786918, 0.36415114]),\n 'std_score_time': array([0.0052501 , 0.01873053, 0.03036701, 0.00261036, 0.0030448 ,\n        0.01199584, 0.00074833, 0.00873743, 0.0102006 ]),\n 'param_learning_rate': masked_array(data=[0.01, 0.01, 0.01, 0.1, 0.1, 0.1, 1.0, 1.0, 1.0],\n              mask=[False, False, False, False, False, False, False, False,\n                    False],\n        fill_value='?',\n             dtype=object),\n 'param_n_estimators': masked_array(data=[20, 50, 100, 20, 50, 100, 20, 50, 100],\n              mask=[False, False, False, False, False, False, False, False,\n                    False],\n        fill_value='?',\n             dtype=object),\n 'params': [{'learning_rate': 0.01, 'n_estimators': 20},\n  {'learning_rate': 0.01, 'n_estimators': 50},\n  {'learning_rate': 0.01, 'n_estimators': 100},\n  {'learning_rate': 0.1, 'n_estimators': 20},\n  {'learning_rate': 0.1, 'n_estimators': 50},\n  {'learning_rate': 0.1, 'n_estimators': 100},\n  {'learning_rate': 1.0, 'n_estimators': 20},\n  {'learning_rate': 1.0, 'n_estimators': 50},\n  {'learning_rate': 1.0, 'n_estimators': 100}],\n 'split0_test_score': array([0.25651042, 0.19661458, 0.2421875 , 0.23893229, 0.2578125 ,\n        0.25716146, 0.24414062, 0.24414062, 0.24414062]),\n 'split1_test_score': array([0.25260417, 0.23958333, 0.23958333, 0.23111979, 0.25585938,\n        0.26106771, 0.2578125 , 0.2578125 , 0.2578125 ]),\n 'split2_test_score': array([0.25260417, 0.19661458, 0.23567708, 0.23372396, 0.25520833,\n        0.26367188, 0.2578125 , 0.25846354, 0.25846354]),\n 'split3_test_score': array([0.24674479, 0.27148438, 0.23958333, 0.234375  , 0.25      ,\n        0.25846354, 0.25195312, 0.25195312, 0.25195312]),\n 'split4_test_score': array([0.25130208, 0.19596354, 0.234375  , 0.23763021, 0.25455729,\n        0.26171875, 0.25585938, 0.25585938, 0.25585938]),\n 'mean_test_score': array([0.25195312, 0.22005208, 0.23828125, 0.23515625, 0.2546875 ,\n        0.26041667, 0.25351563, 0.25364583, 0.25364583]),\n 'std_test_score': array([0.00313583, 0.03067781, 0.00285272, 0.00280477, 0.00258456,\n        0.00232924, 0.0051527 , 0.0052666 , 0.0052666 ]),\n 'rank_test_score': array([6, 9, 7, 8, 2, 1, 5, 3, 3])}"
     },
     "execution_count": 14,
     "metadata": {},
     "output_type": "execute_result"
    }
   ],
   "source": [
    "result"
   ],
   "metadata": {
    "collapsed": false,
    "pycharm": {
     "name": "#%%\n"
    }
   }
  },
  {
   "cell_type": "code",
   "execution_count": null,
   "outputs": [
    {
     "name": "stderr",
     "output_type": "stream",
     "text": [
      "C:\\Software\\anaconda3\\envs\\semantic_rec\\lib\\site-packages\\sklearn\\model_selection\\_split.py:676: UserWarning: The least populated class in y has only 1 members, which is less than n_splits=5.\n",
      "  warnings.warn(\n"
     ]
    },
    {
     "name": "stdout",
     "output_type": "stream",
     "text": [
      "{'mean_fit_time': array([ 23.97829952,  60.77276764, 164.20759096,  26.53822379,\n",
      "        50.5984396 ,  93.86546693,  61.99181046, 104.17175999,\n",
      "       154.87854385, 121.26059628, 179.37930059, 218.20026522]), 'std_fit_time': array([ 3.38912973, 14.74585637, 47.26587634,  2.04379036,  1.48441054,\n",
      "        3.7841438 ,  2.7557627 ,  7.63983642,  6.77344892,  6.70417916,\n",
      "       19.75381004, 13.49696919]), 'mean_score_time': array([0.03978906, 0.0747592 , 0.12921343, 0.07369118, 0.14462566,\n",
      "       0.22172303, 0.21102095, 0.35384836, 0.43730826, 0.29425559,\n",
      "       0.45979934, 0.55798097]), 'std_score_time': array([0.00040078, 0.00699492, 0.00903974, 0.00727527, 0.0031599 ,\n",
      "       0.02405193, 0.02249015, 0.02428777, 0.02607211, 0.01610029,\n",
      "       0.04497023, 0.09557476]), 'param_max_depth': masked_array(data=[3, 3, 3, 5, 5, 5, 10, 10, 10, 20, 20, 20],\n",
      "             mask=[False, False, False, False, False, False, False, False,\n",
      "                   False, False, False, False],\n",
      "       fill_value='?',\n",
      "            dtype=object), 'param_n_estimators': masked_array(data=[50, 100, 200, 50, 100, 200, 50, 100, 200, 50, 100, 200],\n",
      "             mask=[False, False, False, False, False, False, False, False,\n",
      "                   False, False, False, False],\n",
      "       fill_value='?',\n",
      "            dtype=object), 'params': [{'max_depth': 3, 'n_estimators': 50}, {'max_depth': 3, 'n_estimators': 100}, {'max_depth': 3, 'n_estimators': 200}, {'max_depth': 5, 'n_estimators': 50}, {'max_depth': 5, 'n_estimators': 100}, {'max_depth': 5, 'n_estimators': 200}, {'max_depth': 10, 'n_estimators': 50}, {'max_depth': 10, 'n_estimators': 100}, {'max_depth': 10, 'n_estimators': 200}, {'max_depth': 20, 'n_estimators': 50}, {'max_depth': 20, 'n_estimators': 100}, {'max_depth': 20, 'n_estimators': 200}], 'split0_test_score': array([0.51171875, 0.53320312, 0.55078125, 0.54296875, 0.55078125,\n",
      "       0.55664062, 0.5390625 , 0.546875  , 0.55664062, 0.5390625 ,\n",
      "       0.54101562, 0.546875  ]), 'split1_test_score': array([0.33984375, 0.33007812, 0.03320312, 0.59960938, 0.59960938,\n",
      "       0.59765625, 0.6015625 , 0.60351562, 0.59765625, 0.6015625 ,\n",
      "       0.60742188, 0.6015625 ]), 'split2_test_score': array([0.58789062, 0.55273438, 0.01367188, 0.59960938, 0.59960938,\n",
      "       0.59570312, 0.578125  , 0.5859375 , 0.58984375, 0.56640625,\n",
      "       0.57226562, 0.56445312]), 'split3_test_score': array([0.5703125 , 0.00195312, 0.00195312, 0.6171875 , 0.62304688,\n",
      "       0.61914062, 0.6015625 , 0.6015625 , 0.59179688, 0.58789062,\n",
      "       0.5859375 , 0.59179688]), 'split4_test_score': array([0.50390625, 0.00390625, 0.00390625, 0.59960938, 0.59960938,\n",
      "       0.59960938, 0.58007812, 0.5859375 , 0.57421875, 0.57617188,\n",
      "       0.5703125 , 0.57421875]), 'mean_test_score': array([0.50273437, 0.284375  , 0.12070312, 0.59179688, 0.59453125,\n",
      "       0.59375   , 0.58007812, 0.58476562, 0.58203125, 0.57421875,\n",
      "       0.57539063, 0.57578125]), 'std_test_score': array([0.08767421, 0.24267089, 0.21532404, 0.02534551, 0.0236836 ,\n",
      "       0.02037251, 0.02284405, 0.02035752, 0.01487456, 0.02114433,\n",
      "       0.02169991, 0.01942942]), 'rank_test_score': array([10, 11, 12,  3,  1,  2,  6,  4,  5,  9,  8,  7])}\n"
     ]
    },
    {
     "name": "stderr",
     "output_type": "stream",
     "text": [
      "C:\\Software\\anaconda3\\envs\\semantic_rec\\lib\\site-packages\\sklearn\\model_selection\\_split.py:676: UserWarning: The least populated class in y has only 2 members, which is less than n_splits=5.\n",
      "  warnings.warn(\n"
     ]
    },
    {
     "name": "stdout",
     "output_type": "stream",
     "text": [
      "{'mean_fit_time': array([ 53.9668601 , 146.33724723, 363.01407566,  52.84308605,\n",
      "       100.07764988, 188.85317855,  91.53308668, 173.53828287,\n",
      "       265.77699871, 180.49404426, 265.91842484, 341.87836456]), 'std_fit_time': array([ 7.25169961, 22.35364144, 79.58857679,  5.19772207,  1.81718678,\n",
      "        0.43285449,  1.39527916,  6.24339304,  5.47567737,  1.305257  ,\n",
      "        7.73107959,  0.80563856]), 'mean_score_time': array([0.08840446, 0.18219004, 0.25400972, 0.15748162, 0.2860034 ,\n",
      "       0.42479224, 0.38701482, 0.76064768, 0.89118977, 0.60781856,\n",
      "       0.95537863, 1.05082269]), 'std_score_time': array([0.00489061, 0.03087608, 0.01728178, 0.02618036, 0.01252253,\n",
      "       0.02453097, 0.01011048, 0.10023061, 0.02407369, 0.02520184,\n",
      "       0.06373866, 0.01925529]), 'param_max_depth': masked_array(data=[3, 3, 3, 5, 5, 5, 10, 10, 10, 20, 20, 20],\n",
      "             mask=[False, False, False, False, False, False, False, False,\n",
      "                   False, False, False, False],\n",
      "       fill_value='?',\n",
      "            dtype=object), 'param_n_estimators': masked_array(data=[50, 100, 200, 50, 100, 200, 50, 100, 200, 50, 100, 200],\n",
      "             mask=[False, False, False, False, False, False, False, False,\n",
      "                   False, False, False, False],\n",
      "       fill_value='?',\n",
      "            dtype=object), 'params': [{'max_depth': 3, 'n_estimators': 50}, {'max_depth': 3, 'n_estimators': 100}, {'max_depth': 3, 'n_estimators': 200}, {'max_depth': 5, 'n_estimators': 50}, {'max_depth': 5, 'n_estimators': 100}, {'max_depth': 5, 'n_estimators': 200}, {'max_depth': 10, 'n_estimators': 50}, {'max_depth': 10, 'n_estimators': 100}, {'max_depth': 10, 'n_estimators': 200}, {'max_depth': 20, 'n_estimators': 50}, {'max_depth': 20, 'n_estimators': 100}, {'max_depth': 20, 'n_estimators': 200}], 'split0_test_score': array([0.56738281, 0.01171875, 0.01171875, 0.89941406, 0.91699219,\n",
      "       0.91796875, 0.92675781, 0.92675781, 0.92675781, 0.92578125,\n",
      "       0.92578125, 0.92578125]), 'split1_test_score': array([0.71679688, 0.00195312, 0.01367188, 0.92773438, 0.93652344,\n",
      "       0.94335938, 0.95214844, 0.95214844, 0.95214844, 0.95214844,\n",
      "       0.95214844, 0.95214844]), 'split2_test_score': array([0.06738281, 0.57910156, 0.58300781, 0.89453125, 0.91601562,\n",
      "       0.91601562, 0.91601562, 0.91601562, 0.91601562, 0.91992188,\n",
      "       0.91992188, 0.91992188]), 'split3_test_score': array([0.72070312, 0.02636719, 0.10058594, 0.90039062, 0.92089844,\n",
      "       0.92675781, 0.94824219, 0.94726562, 0.94628906, 0.94726562,\n",
      "       0.94726562, 0.9453125 ]), 'split4_test_score': array([0.5234375 , 0.14160156, 0.14160156, 0.90917969, 0.92089844,\n",
      "       0.92480469, 0.9375    , 0.9375    , 0.93554688, 0.93847656,\n",
      "       0.93847656, 0.93847656]), 'mean_test_score': array([0.51914063, 0.15214844, 0.17011719, 0.90625   , 0.92226562,\n",
      "       0.92578125, 0.93613281, 0.9359375 , 0.93535156, 0.93671875,\n",
      "       0.93671875, 0.93632812]), 'std_test_score': array([0.23921803, 0.21931724, 0.21245781, 0.01173501, 0.00740129,\n",
      "       0.00966748, 0.01339849, 0.01322656, 0.01303482, 0.01228141,\n",
      "       0.01228141, 0.01196678]), 'rank_test_score': array([10, 12, 11,  9,  8,  7,  4,  5,  6,  1,  1,  3])}\n"
     ]
    },
    {
     "name": "stderr",
     "output_type": "stream",
     "text": [
      "C:\\Software\\anaconda3\\envs\\semantic_rec\\lib\\site-packages\\sklearn\\model_selection\\_split.py:676: UserWarning: The least populated class in y has only 3 members, which is less than n_splits=5.\n",
      "  warnings.warn(\n"
     ]
    }
   ],
   "source": [
    "\n",
    "param_grid = [\n",
    "  {'n_estimators': [50,100, 200], 'max_depth': [3,5,10,20]}\n",
    " ]\n",
    "\n",
    "for rng in ranges:\n",
    "    X,y = prepare_data(template,rng, classes_mapping=classes_mapping, predicates_mapping=predicates_mapping)\n",
    "    clf = GridSearchCV(estimator=GradientBoostingClassifier(),             param_grid=param_grid)\n",
    "    #clf = GradientBoostingClassifier()\n",
    "    clf.fit(X,y)\n",
    "    result = clf.cv_results_\n",
    "    print(result)"
   ],
   "metadata": {
    "collapsed": false,
    "pycharm": {
     "name": "#%%\n",
     "is_executing": true
    }
   }
  },
  {
   "cell_type": "code",
   "execution_count": null,
   "outputs": [],
   "source": [],
   "metadata": {
    "collapsed": false,
    "pycharm": {
     "name": "#%%\n",
     "is_executing": true
    }
   }
  }
 ],
 "metadata": {
  "kernelspec": {
   "display_name": "Python 3",
   "language": "python",
   "name": "python3"
  },
  "language_info": {
   "codemirror_mode": {
    "name": "ipython",
    "version": 2
   },
   "file_extension": ".py",
   "mimetype": "text/x-python",
   "name": "python",
   "nbconvert_exporter": "python",
   "pygments_lexer": "ipython2",
   "version": "2.7.6"
  }
 },
 "nbformat": 4,
 "nbformat_minor": 0
}