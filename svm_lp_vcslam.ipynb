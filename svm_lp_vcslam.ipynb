{
 "cells": [
  {
   "cell_type": "code",
   "execution_count": 20,
   "outputs": [],
   "source": [
    "import json\n",
    "import random\n",
    "\n",
    "import numpy as np\n",
    "from numpy import mean\n",
    "from numpy import std\n",
    "from sklearn.model_selection import RepeatedStratifiedKFold\n",
    "from sklearn.model_selection import cross_validate\n",
    "from sklearn.svm import SVC\n",
    "\n",
    "from config import VCSLAM\n",
    "from util.parse import generate_dictionaries, generate_id_dict, encode_triples"
   ],
   "metadata": {
    "collapsed": false,
    "pycharm": {
     "name": "#%%\n"
    }
   }
  },
  {
   "cell_type": "code",
   "execution_count": null,
   "outputs": [],
   "source": [
    "datasets = [\n",
    "            VCSLAM()\n",
    "            #ARMSTRADER()\n",
    "            ]"
   ],
   "metadata": {
    "collapsed": false,
    "pycharm": {
     "name": "#%%\n"
    }
   }
  },
  {
   "cell_type": "code",
   "execution_count": 22,
   "outputs": [],
   "source": [
    "vcslam = VCSLAM()\n",
    "dataset = vcslam\n",
    "\n",
    "with open(vcslam.PARSED_MODELS_PATH, 'r') as file:\n",
    "    vcslam_models = json.load(file)\n",
    "\n",
    "# models = armstrader_models if dataset.identifier == \"armstrader\" else vcslam_models\n",
    "models = vcslam_models\n",
    "template = vcslam_models\n",
    "triples = []\n",
    "for model in models[:]:\n",
    "    for triple in model:\n",
    "        triples.append(tuple(triple))\n",
    "\n",
    "classes, predicates = generate_dictionaries(triples)\n",
    "classes_mapping = generate_id_dict(classes)\n",
    "predicates_mapping = generate_id_dict(predicates)\n"
   ],
   "metadata": {
    "collapsed": false,
    "pycharm": {
     "name": "#%%\n"
    }
   }
  },
  {
   "cell_type": "code",
   "execution_count": 23,
   "outputs": [
    {
     "data": {
      "text/plain": "2560"
     },
     "execution_count": 23,
     "metadata": {},
     "output_type": "execute_result"
    }
   ],
   "source": [
    "len(triples)"
   ],
   "metadata": {
    "collapsed": false,
    "pycharm": {
     "name": "#%%\n"
    }
   }
  },
  {
   "cell_type": "code",
   "execution_count": 24,
   "outputs": [],
   "source": [
    "def prepare_data(models, classes_mapping=None, predicates_mapping=None, shuffle=False,\n",
    "                 triple_weights=None, verbose=False):\n",
    "    triples = []\n",
    "    for model in models[:]:\n",
    "        for triple in model:\n",
    "            triples.append(tuple(triple))\n",
    "\n",
    "    if shuffle:\n",
    "        random.shuffle(triples)\n",
    "\n",
    "    if triple_weights:\n",
    "        triples = modrel.reduce_relations(triples, triple_weights, verbose=verbose)\n",
    "    if not classes_mapping:\n",
    "        classes, predicates = generate_dictionaries(triples)\n",
    "        classes_mapping = generate_id_dict(classes)\n",
    "        predicates_mapping = generate_id_dict(predicates)\n",
    "    # print(\"training triples size\", len(train_triples))\n",
    "\n",
    "    encoded_triples = encode_triples(triples, classes_mapping, predicates_mapping)\n",
    "    X = encoded_triples[:, [0, 2]]\n",
    "    y = encoded_triples[:, 1]\n",
    "    # print(X.shape, y.shape)\n",
    "    # print(train_data, X,y)\n",
    "    return X, y"
   ],
   "metadata": {
    "collapsed": false,
    "pycharm": {
     "name": "#%%\n"
    }
   }
  },
  {
   "cell_type": "code",
   "execution_count": 25,
   "outputs": [],
   "source": [
    "import preprocess.modify_relations as modrel\n",
    "\n",
    "# triples = modrel.reduce_relations(triples, targets)\n",
    "\n",
    "#test_triples = random.sample(triples, floor(len(triples) / 10))\n",
    "# test_triples = [triple for triple in test_triples if triple[0] == 'http://schema.org/Offer' and triple[2] == str(XSD.string)]\n",
    "\n"
   ],
   "metadata": {
    "collapsed": false,
    "pycharm": {
     "name": "#%%\n"
    }
   }
  },
  {
   "cell_type": "code",
   "execution_count": 26,
   "outputs": [],
   "source": [
    "n_jobs = -1"
   ],
   "metadata": {
    "collapsed": false,
    "pycharm": {
     "name": "#%%\n"
    }
   }
  },
  {
   "cell_type": "code",
   "execution_count": 27,
   "outputs": [],
   "source": [
    "def calc_hits_mrr(model, predictions, reference, hits=None):\n",
    "    if hits is None:\n",
    "        hits = [3]\n",
    "    predictions = model.classes_[np.argsort(predictions)[:, ::-1]]\n",
    "    positions = []\n",
    "    for row in range(len(predictions)):\n",
    "        for i in range(predictions.shape[1]):\n",
    "            if predictions[row][i] == reference[row]:\n",
    "                positions.append(i)\n",
    "                break\n",
    "\n",
    "    positions = [(i + 1) for i in positions]\n",
    "    result = {}\n",
    "    result['mrr'] = np.mean(positions)\n",
    "    for value in hits:\n",
    "        hits_at_value = [1 if pos <= value else 0 for pos in positions]\n",
    "        result['hits@' + str(value)] = np.sum(hits_at_value) / len(hits_at_value)\n",
    "    return result\n"
   ],
   "metadata": {
    "collapsed": false,
    "pycharm": {
     "name": "#%%\n"
    }
   }
  },
  {
   "cell_type": "code",
   "execution_count": 28,
   "outputs": [],
   "source": [
    "%%capture\n",
    "cv = RepeatedStratifiedKFold(n_splits=5, n_repeats=1, random_state=1)\n",
    "\n",
    "C_values = [10,100,1000]\n",
    "gammas = [\"scale\", 0.001, 0.0001]\n",
    "results = []\n",
    "rng  = \"X\"\n",
    "for dataset in datasets:\n",
    "    for c in C_values:\n",
    "        for gamma in gammas:\n",
    "            X, y = prepare_data(template, classes_mapping=classes_mapping,\n",
    "                                predicates_mapping=predicates_mapping)\n",
    "            svm = SVC(gamma=gamma, C=c, probability=True)\n",
    "            cv_results = cross_validate(svm, X[:], y[:].reshape(-1), scoring='accuracy', cv=cv, n_jobs=n_jobs,\n",
    "                                        error_score='raise', return_estimator=True)\n",
    "            hits_3 = []\n",
    "            mrrs = []\n",
    "            for est in cv_results['estimator']:\n",
    "                pred = est.predict_proba(X)\n",
    "                hits_mrr = calc_hits_mrr(est, pred, y, hits=[1,3])\n",
    "                hits_3.append(hits_mrr['hits@3'])\n",
    "                mrrs.append(hits_mrr['mrr'])\n",
    "            scores = cv_results['test_score']\n",
    "            results.append([f'SVM {dataset.identifier} {rng} {c} {gamma}', mean(scores), std(scores), mean(mrrs), std(mrrs), mean(hits_3), std(hits_3)])\n",
    "            #print(f'RFC {dataset.identifier} {rng} {estimator} | {mean(n_scores):.3f} ({std(n_scores):.3f})')\n"
   ],
   "metadata": {
    "collapsed": false,
    "pycharm": {
     "name": "#%%\n"
    }
   }
  },
  {
   "cell_type": "code",
   "execution_count": 29,
   "outputs": [
    {
     "data": {
      "text/plain": "[['RFC vcslam X 100 0.001',\n  0.5328125,\n  0.00935870980524292,\n  8.276544016636155,\n  0.26601055036420235,\n  0.7889310628704611,\n  0.004296412257829757],\n ['RFC vcslam X 1000 0.001',\n  0.53046875,\n  0.01074041178505275,\n  8.44620233370971,\n  0.16776373576904763,\n  0.7761548900403551,\n  0.006033975126346682],\n ['RFC vcslam X 10 0.001',\n  0.51796875,\n  0.01141534312203317,\n  8.421994527668929,\n  0.3280565382433172,\n  0.7847777324697216,\n  0.003436958691320613],\n ['RFC vcslam X 1000 0.0001',\n  0.506640625,\n  0.017451803049756777,\n  7.644577031654333,\n  0.1437712959414364,\n  0.6615684449757917,\n  0.005634775274003378],\n ['RFC vcslam X 100 0.0001',\n  0.487109375,\n  0.011627246926669698,\n  7.522091205838629,\n  0.20591967583597898,\n  0.6917456043266708,\n  0.005774101974373568],\n ['RFC vcslam X 1000 scale',\n  0.480859375,\n  0.015098553195381007,\n  7.623770292967103,\n  0.14904268269713694,\n  0.6527938364764896,\n  0.004509754308981115],\n ['RFC vcslam X 10 0.0001',\n  0.454296875,\n  0.015408658533840642,\n  7.658591272417413,\n  0.15164394949900567,\n  0.6836735284314267,\n  0.00264854596853217],\n ['RFC vcslam X 100 scale',\n  0.44375,\n  0.01659121920437133,\n  7.55052836129943,\n  0.200435200449788,\n  0.6607097821737018,\n  0.004397923135223346],\n ['RFC vcslam X 10 scale',\n  0.402734375,\n  0.007851465329000695,\n  7.925876291565281,\n  0.19231948526429363,\n  0.6432320256826912,\n  0.004141662627191292]]"
     },
     "execution_count": 29,
     "metadata": {},
     "output_type": "execute_result"
    }
   ],
   "source": [
    "results = sorted(results, key=lambda x: x[1], reverse=True)\n",
    "results[:10]"
   ],
   "metadata": {
    "collapsed": false,
    "pycharm": {
     "name": "#%%\n"
    }
   }
  }
 ],
 "metadata": {
  "kernelspec": {
   "display_name": "Python 3",
   "language": "python",
   "name": "python3"
  },
  "language_info": {
   "codemirror_mode": {
    "name": "ipython",
    "version": 2
   },
   "file_extension": ".py",
   "mimetype": "text/x-python",
   "name": "python",
   "nbconvert_exporter": "python",
   "pygments_lexer": "ipython2",
   "version": "2.7.6"
  }
 },
 "nbformat": 4,
 "nbformat_minor": 0
}