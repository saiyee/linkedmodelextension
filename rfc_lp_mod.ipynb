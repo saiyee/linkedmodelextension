{
 "cells": [
  {
   "cell_type": "code",
   "execution_count": 2,
   "outputs": [],
   "source": [
    "import json\n",
    "\n",
    "import numpy as np\n",
    "from sklearn.ensemble import RandomForestClassifier\n",
    "\n",
    "from config import ARMSTRADER\n",
    "from util.parse import generate_dictionaries, generate_id_dict"
   ],
   "metadata": {
    "collapsed": false,
    "pycharm": {
     "name": "#%%\n"
    }
   }
  },
  {
   "cell_type": "code",
   "execution_count": 3,
   "outputs": [],
   "source": [
    "armstrader = ARMSTRADER()\n",
    "with open(armstrader.PARSED_MODELS_PATH, 'r') as file:\n",
    "    armstrader_models = json.load(file)\n",
    "\n",
    "models = armstrader_models\n",
    "triples = []\n",
    "for model in models[:]:\n",
    "    for triple in model:\n",
    "        triples.append(tuple(triple))\n",
    "\n",
    "classes, predicates = generate_dictionaries(triples)\n",
    "classes_mapping = generate_id_dict(classes)\n",
    "predicates_mapping = generate_id_dict(predicates)\n"
   ],
   "metadata": {
    "collapsed": false,
    "pycharm": {
     "name": "#%%\n"
    }
   }
  },
  {
   "cell_type": "code",
   "execution_count": 4,
   "outputs": [
    {
     "data": {
      "text/plain": "[(('http://schema.org/Offer',\n   'http://schema.org/name',\n   'http://www.w3.org/2001/XMLSchema#string'),\n  18330),\n (('http://schema.org/Offer',\n   'http://schema.org/price',\n   'http://www.w3.org/2001/XMLSchema#string'),\n  16230),\n (('http://schema.org/CreativeWork',\n   'http://schema.org/name',\n   'http://www.w3.org/2001/XMLSchema#string'),\n  12255),\n (('http://schema.org/Offer',\n   'http://schema.org/availableAtOrFrom',\n   'http://schema.org/Place'),\n  11253),\n (('http://schema.org/Offer',\n   'http://schema.org/description',\n   'http://www.w3.org/2001/XMLSchema#string'),\n  11190),\n (('http://schema.org/CreativeWork',\n   'http://schema.org/copyrightYear',\n   'http://www.w3.org/2001/XMLSchema#string'),\n  10845),\n (('http://schema.org/Offer',\n   'http://schema.org/mainEntityOfPage',\n   'http://schema.org/CreativeWork'),\n  10353),\n (('http://schema.org/Offer',\n   'http://schema.org/seller',\n   'http://schema.dig.isi.edu/ontology/PersonOrOrganization'),\n  8616),\n (('http://schema.org/Offer',\n   'http://schema.dig.isi.edu/ontology/identifier',\n   'http://www.w3.org/2001/XMLSchema#string'),\n  7335),\n (('http://schema.org/Place',\n   'http://schema.org/name',\n   'http://www.w3.org/2001/XMLSchema#string'),\n  6930),\n (('http://schema.dig.isi.edu/ontology/PersonOrOrganization',\n   'http://schema.dig.isi.edu/ontology/identifier',\n   'http://www.w3.org/2001/XMLSchema#string'),\n  6810),\n (('http://schema.org/Offer',\n   'http://schema.org/itemOffered',\n   'http://schema.dig.isi.edu/ontology/Firearm'),\n  6678),\n (('http://schema.org/Offer',\n   'http://schema.org/datePosted',\n   'http://www.w3.org/2001/XMLSchema#string'),\n  6165),\n (('http://schema.org/Offer',\n   'http://schema.org/relatedTo',\n   'http://schema.org/Offer'),\n  5902),\n (('http://schema.dig.isi.edu/ontology/PersonOrOrganization',\n   'http://schema.org/telephone',\n   'http://www.w3.org/2001/XMLSchema#string'),\n  3675),\n (('http://schema.dig.isi.edu/ontology/PersonOrOrganization',\n   'http://schema.org/name',\n   'http://www.w3.org/2001/XMLSchema#string'),\n  2430),\n (('http://schema.dig.isi.edu/ontology/Firearm',\n   'http://schema.org/manufacturer',\n   'http://schema.dig.isi.edu/ontology/PersonOrOrganization'),\n  2184),\n (('http://schema.org/Offer',\n   'http://schema.org/expires',\n   'http://www.w3.org/2001/XMLSchema#string'),\n  2130),\n (('http://schema.dig.isi.edu/ontology/Firearm',\n   'http://schema.org/category',\n   'http://www.w3.org/2001/XMLSchema#string'),\n  1995),\n (('http://schema.dig.isi.edu/ontology/Firearm',\n   'http://schema.org/name',\n   'http://www.w3.org/2001/XMLSchema#string'),\n  1875),\n (('http://schema.org/Place',\n   'http://schema.org/address',\n   'http://schema.org/PostalAddress'),\n  1428),\n (('http://schema.org/PostalAddress',\n   'http://schema.org/relatedTo',\n   'http://schema.org/Offer'),\n  1352),\n (('http://schema.org/CreativeWork',\n   'http://schema.dig.isi.edu/ontology/unidentifiedNumber',\n   'http://www.w3.org/2001/XMLSchema#string'),\n  1350),\n (('http://schema.org/PostalAddress',\n   'http://schema.org/mainEntityOfPage',\n   'http://schema.org/CreativeWork'),\n  1116),\n (('http://schema.org/Offer',\n   'http://schema.org/dateModified',\n   'http://www.w3.org/2001/XMLSchema#string'),\n  1080),\n (('http://schema.org/PostalAddress',\n   'http://schema.org/seller',\n   'http://schema.dig.isi.edu/ontology/PersonOrOrganization'),\n  1071),\n (('http://schema.org/PostalAddress',\n   'http://schema.org/availableAtOrFrom',\n   'http://schema.org/Place'),\n  937),\n (('http://schema.org/Offer',\n   'http://schema.org/acceptedPaymentMethod',\n   'http://www.w3.org/2001/XMLSchema#string'),\n  870),\n (('http://schema.org/PostalAddress',\n   'http://schema.org/postalCode',\n   'http://www.w3.org/2001/XMLSchema#string'),\n  795),\n (('http://schema.org/PostalAddress',\n   'http://schema.org/addressRegion',\n   'http://www.w3.org/2001/XMLSchema#string'),\n  780),\n (('http://schema.dig.isi.edu/ontology/PersonOrOrganization',\n   'http://schema.org/givenName',\n   'http://www.w3.org/2001/XMLSchema#string'),\n  615),\n (('http://schema.dig.isi.edu/ontology/PersonOrOrganization',\n   'http://schema.org/faxNumber',\n   'http://www.w3.org/2001/XMLSchema#string'),\n  615),\n (('http://schema.org/PostalAddress',\n   'http://schema.org/description',\n   'http://www.w3.org/2001/XMLSchema#string'),\n  615),\n (('http://schema.dig.isi.edu/ontology/PersonOrOrganization',\n   'http://schema.org/familyName',\n   'http://www.w3.org/2001/XMLSchema#string'),\n  615),\n (('http://schema.dig.isi.edu/ontology/Firearm',\n   'http://schema.org/itemCondition',\n   'http://www.w3.org/2001/XMLSchema#string'),\n  600),\n (('http://schema.dig.isi.edu/ontology/PersonOrOrganization',\n   'http://schema.org/address',\n   'http://schema.org/PostalAddress'),\n  574),\n (('http://schema.dig.isi.edu/ontology/PersonOrOrganization',\n   'http://schema.org/email',\n   'http://www.w3.org/2001/XMLSchema#string'),\n  510),\n (('http://schema.org/PostalAddress',\n   'http://schema.org/name',\n   'http://www.w3.org/2001/XMLSchema#string'),\n  420),\n (('http://schema.org/PostalAddress',\n   'http://schema.org/expires',\n   'http://www.w3.org/2001/XMLSchema#string'),\n  390),\n (('http://schema.org/PostalAddress',\n   'http://schema.org/streetAddress',\n   'http://www.w3.org/2001/XMLSchema#string'),\n  330),\n (('http://schema.org/PostalAddress',\n   'http://schema.org/price',\n   'http://www.w3.org/2001/XMLSchema#string'),\n  315),\n (('http://schema.dig.isi.edu/ontology/PersonOrOrganization',\n   'http://schema.dig.isi.edu/ontology/phoneSubscriberNumber',\n   'http://www.w3.org/2001/XMLSchema#string'),\n  120),\n (('http://schema.dig.isi.edu/ontology/PersonOrOrganization',\n   'http://schema.dig.isi.edu/ontology/phoneAreaCode',\n   'http://www.w3.org/2001/XMLSchema#string'),\n  120),\n (('http://schema.org/PostalAddress',\n   'http://schema.org/itemOffered',\n   'http://schema.dig.isi.edu/ontology/Firearm'),\n  105),\n (('http://schema.org/ContactPoint',\n   'http://schema.org/name',\n   'http://www.w3.org/2001/XMLSchema#string'),\n  90),\n (('http://schema.dig.isi.edu/ontology/PersonOrOrganization',\n   'http://schema.org/contactPoint',\n   'http://schema.org/ContactPoint'),\n  84),\n (('http://schema.org/Offer',\n   'http://schema.org/relatedTo',\n   'http://schema.org/PostalAddress'),\n  67),\n (('http://schema.dig.isi.edu/ontology/PersonOrOrganization',\n   'http://schema.org/contactPoint',\n   'http://schema.org/PostalAddress'),\n  28),\n (('http://schema.org/Offer',\n   'http://schema.org/availableAtOrFrom',\n   'http://dig.isi.edu/ontology/memex//place/58655a533dbcf626'),\n  14),\n (('http://schema.org/Offer',\n   'http://schema.org/availableAtOrFrom',\n   'http://dig.isi.edu/ontology/memex//place/37055bfb0f364355'),\n  14),\n (('http://schema.org/Offer',\n   'http://schema.org/availableAtOrFrom',\n   'http://dig.isi.edu/ontology/memex//place/: 10 RDS      Choke: N/A     Stock/Grips: Walnut Stock         Condition :       Blue and Wood show signs of gentle wear     90-95%        Includes :       N/A        Safety:      You, as the buyer are solely responsible for determining that a used gun is safe to shoot. The firearms offered here have NOT been test fired but have only been given a visual inspection for resell purposes. It is a requirement that every used firearm be inspected by a licensed gunsmith before firing. By bidding or purchasing, you the buyer agrees to hold Plano Pawn Shop harmless against damages, injury, or death caused by defective merchandise.      * All firearms MUST be shipped to a licensed FFL dealer. We will not ship until we have a valid copy of your dealers license e-mailed or faxed to us.*        Need a Loan or Have one to sell ?       Do you have the same make and model item? Are you needing a cash loan or wanting to sell your item fast for cash? Get a free quote today by clicking'),\n  14),\n (('http://schema.org/Offer',\n   'http://schema.org/availableAtOrFrom',\n   \"http://dig.isi.edu/ontology/memex//place/- 7+1   Action - Double Action Only   # of Mags - 1   Additional Features - Magazine Disconnect                Tweet                     Price:       $550.00           Manf.:      Ruger (Sturm, Ruger and Company)          Model:      LC9s 9mm          Condition:      100% (NIB, New In the Box)                                                   Guns Online     Searchable Gun Database     Gun Classifieds         Dallas Guns -  For all your firearm needs!  We specialize in Guns Online!      Visit our  Links  page for Firearm Dealers, Resources, Gun Safety, Concealed Handgun Licenses, and more.  NEED HELP?  CONTACT US                 Can't Find What You Are Looking For?  Use our new powerful search tool located in the TOP LEFT of your screen just under the DallasGuns.com logo.    DallasGuns.com has tons of new and used guns for sale in our searchable firearm classified database, a great resource if you want to buy or sell guns.  Find used guns by brand, find new guns by brand, finish, or caliber.    Dallas Guns now offers a more convenient search tool,  you now have the ability to find items by finish  caliber! For example Search for:  NEW  USED FIREARM ANTIQUES  ,\"),\n  14),\n (('http://schema.org/Offer',\n   'http://schema.org/availableAtOrFrom',\n   'http://dig.isi.edu/ontology/memex//place/45455a5deb84cdc5'),\n  14),\n (('http://schema.org/Offer',\n   'http://schema.org/availableAtOrFrom',\n   \"http://dig.isi.edu/ontology/memex//place/- 10+1  17+1   Action - Double Action Only (Striker Fire Action)   # of Mags - 2   Packaging - Magazine Loader, Black Plastic Case   Receiver - Picatinny Rail   Additional Features - Reversible Backstrap (Flat or Arched)   Accepts Most Full Sized SR9 Access  SR9 Mags                Tweet                     Price:       $439.99           Manf.:      Ruger (Sturm, Ruger and Company)          Model:      SR9C Black          Condition:      100% (NIB, New In the Box)                                                   Guns Online     Searchable Gun Database     Gun Classifieds         Dallas Guns -  For all your firearm needs!  We specialize in Guns Online!      Visit our  Links  page for Firearm Dealers, Resources, Gun Safety, Concealed Handgun Licenses, and more.  NEED HELP?  CONTACT US                 Can't Find What You Are Looking For?  Use our new powerful search tool located in the TOP LEFT of your screen just under the DallasGuns.com logo.    DallasGuns.com has tons of new and used guns for sale in our searchable firearm classified database, a great resource if you want to buy or sell guns.  Find used guns by brand, find new guns by brand, finish, or caliber.    Dallas Guns now offers a more convenient search tool,  you now have the ability to find items by finish  caliber! For example Search for:  NEW  USED FIREARM ANTIQUES  ,\"),\n  14),\n (('http://schema.org/Offer',\n   'http://schema.org/availableAtOrFrom',\n   'http://dig.isi.edu/ontology/memex//place/52955ccc74a6f1ac'),\n  14),\n (('http://schema.org/Offer',\n   'http://schema.org/availableAtOrFrom',\n   'http://dig.isi.edu/ontology/memex//place/: 15 RDS      Choke: N/A     Stock/Grips: Polymer         Condition :       Blue wear on slide from holster     90%        Includes :       2 - 15 RDS Factory Magazines        Safety:      You, as the buyer are solely responsible for determining that a used gun is safe to shoot. The firearms offered here have NOT been test fired but have only been given a visual inspection for resell purposes. It is a requirement that every used firearm be inspected by a licensed gunsmith before firing. By bidding or purchasing, you the buyer agrees to hold Plano Pawn Shop harmless against damages, injury, or death caused by defective merchandise.      * All firearms MUST be shipped to a licensed FFL dealer. We will not ship until we have a valid copy of your dealers license e-mailed or faxed to us.*        Need a Loan or Have one to sell ?       Do you have the same make and model item? Are you needing a cash loan or wanting to sell your item fast for cash? Get a free quote today by clicking'),\n  14),\n (('http://schema.org/Offer',\n   'http://schema.org/availableAtOrFrom',\n   'http://dig.isi.edu/ontology/memex//place/68155c13de2f2532'),\n  14),\n (('http://schema.org/Offer',\n   'http://schema.org/availableAtOrFrom',\n   'http://dig.isi.edu/ontology/memex//place/83855a5a3575d74c'),\n  14),\n (('http://schema.org/Offer',\n   'http://schema.org/availableAtOrFrom',\n   'http://dig.isi.edu/ontology/memex//place/70055d60b89d0844'),\n  14),\n (('http://schema.org/Offer',\n   'http://schema.org/availableAtOrFrom',\n   'http://dig.isi.edu/ontology/memex//place/: 17 RDS      Choke: N/A     Stock/Grips: Polymer         Condition :       90%        Includes :       Factory Box     1 - 17 RDS Factory Magazine        Safety:      You, as the buyer are solely responsible for determining that a used gun is safe to shoot. The firearms offered here have NOT been test fired but have only been given a visual inspection for resell purposes. It is a requirement that every used firearm be inspected by a licensed gunsmith before firing. By bidding or purchasing, you the buyer agrees to hold Plano Pawn Shop harmless against damages, injury, or death caused by defective merchandise.      * All firearms MUST be shipped to a licensed FFL dealer. We will not ship until we have a valid copy of your dealers license e-mailed or faxed to us.*        Need a Loan or Have one to sell ?       Do you have the same make and model item? Are you needing a cash loan or wanting to sell your item fast for cash? Get a free quote today by clicking'),\n  14),\n (('http://schema.org/Offer',\n   'http://schema.org/availableAtOrFrom',\n   'http://dig.isi.edu/ontology/memex//place/: 4 RDS      Choke: FULL      Stock/Grips: Hardwood Stock         Condition :       Very Little Wear     LIKE NEW (with tags)      98%        Includes :       N/A        Safety:      You, as the buyer are solely responsible for determining that a used gun is safe to shoot. The firearms offered here have NOT been test fired but have only been given a visual inspection for resell purposes. It is a requirement that every used firearm be inspected by a licensed gunsmith before firing. By bidding or purchasing, you the buyer agrees to hold Plano Pawn Shop harmless against damages, injury, or death caused by defective merchandise.      * All firearms MUST be shipped to a licensed FFL dealer. We will not ship until we have a valid copy of your dealers license e-mailed or faxed to us.*        Need a Loan or Have one to sell ?       Do you have the same make and model item? Are you needing a cash loan or wanting to sell your item fast for cash? Get a free quote today by clicking'),\n  14),\n (('http://schema.org/Offer',\n   'http://schema.org/availableAtOrFrom',\n   'http://dig.isi.edu/ontology/memex//place/61955f83fc625a61'),\n  14),\n (('http://schema.org/Offer',\n   'http://schema.org/availableAtOrFrom',\n   'http://dig.isi.edu/ontology/memex//place/: 4 + 1 RDS      Choke: N/A     Stock/Grips: Synthetic Stock       3 AVAILABLE        Condition :       100% Unfired Brand New in Box        Includes :       Factory Box        Safety:      You, as the buyer are solely responsible for determining that a used gun is safe to shoot. The firearms offered here have NOT been test fired but have only been given a visual inspection for resell purposes. It is a requirement that every used firearm be inspected by a licensed gunsmith before firing. By bidding or purchasing, you the buyer agrees to hold Plano Pawn Shop harmless against damages, injury, or death caused by defective merchandise.      * All firearms MUST be shipped to a licensed FFL dealer. We will not ship until we have a valid copy of your dealers license e-mailed or faxed to us.*        Need a Loan or Have one to sell ?       Do you have the same make and model item? Are you needing a cash loan or wanting to sell your item fast for cash? Get a free quote today by clicking'),\n  14),\n (('http://schema.org/Offer',\n   'http://schema.org/availableAtOrFrom',\n   'http://dig.isi.edu/ontology/memex//place/5815600fd181fe3b'),\n  14),\n (('http://schema.org/Offer',\n   'http://schema.org/availableAtOrFrom',\n   'http://dig.isi.edu/ontology/memex//place/915625325de6ddb'),\n  14),\n (('http://schema.org/Offer',\n   'http://schema.org/availableAtOrFrom',\n   'http://dig.isi.edu/ontology/memex//place/47455c2cb443cfb4'),\n  14),\n (('http://schema.org/Offer',\n   'http://schema.org/availableAtOrFrom',\n   'http://dig.isi.edu/ontology/memex//place/645619bc95f0f65'),\n  14),\n (('http://schema.org/Offer',\n   'http://schema.org/availableAtOrFrom',\n   'http://dig.isi.edu/ontology/memex//place/12155a1a2938bc1e'),\n  14),\n (('http://schema.org/Offer',\n   'http://schema.org/availableAtOrFrom',\n   'http://dig.isi.edu/ontology/memex//place/5995623e584277d1'),\n  14),\n (('http://schema.org/Offer',\n   'http://schema.org/availableAtOrFrom',\n   'http://dig.isi.edu/ontology/memex//place/: 7 RDS      Choke: N/A     Stock/Grips: Polymer       Gun Weight: 13.76 oz. (unloaded)         Condition :       100% NEW IN BOX (unfired)         Includes :       Factory Box     2 - 7 RDS Magazines        Safety:      You, as the buyer are solely responsible for determining that a used gun is safe to shoot. The firearms offered here have NOT been test fired but have only been given a visual inspection for resell purposes. It is a requirement that every used firearm be inspected by a licensed gunsmith before firing. By bidding or purchasing, you the buyer agrees to hold Plano Pawn Shop harmless against damages, injury, or death caused by defective merchandise.      * All firearms MUST be shipped to a licensed FFL dealer. We will not ship until we have a valid copy of your dealers license e-mailed or faxed to us.*        Need a Loan or Have one to sell ?       Do you have the same make and model item? Are you needing a cash loan or wanting to sell your item fast for cash? Get a free quote today by clicking'),\n  14),\n (('http://schema.org/Offer',\n   'http://schema.org/availableAtOrFrom',\n   'http://dig.isi.edu/ontology/memex//place/94155c2ce02e9a56'),\n  14),\n (('http://schema.org/Offer',\n   'http://schema.org/availableAtOrFrom',\n   'http://dig.isi.edu/ontology/memex//place/: 6 RDS      Choke: N/A     Stock/Grips: Medalion Checkered Grips         Condition :       Very Little Wear     95-98%        Includes :       N/A        Safety:      You, as the buyer are solely responsible for determining that a used gun is safe to shoot. The firearms offered here have NOT been test fired but have only been given a visual inspection for resell purposes. It is a requirement that every used firearm be inspected by a licensed gunsmith before firing. By bidding or purchasing, you the buyer agrees to hold Plano Pawn Shop harmless against damages, injury, or death caused by defective merchandise.      * All firearms MUST be shipped to a licensed FFL dealer. We will not ship until we have a valid copy of your dealers license e-mailed or faxed to us.*        Need a Loan or Have one to sell ?       Do you have the same make and model item? Are you needing a cash loan or wanting to sell your item fast for cash? Get a free quote today by clicking'),\n  14),\n (('http://schema.org/Offer',\n   'http://schema.org/availableAtOrFrom',\n   'http://dig.isi.edu/ontology/memex//place/66555a0180859c65'),\n  14),\n (('http://schema.org/Offer',\n   'http://schema.org/availableAtOrFrom',\n   'http://dig.isi.edu/ontology/memex//place/: 15 RDS      Choke: N/A     Stock/Grips: Polymer         Condition :       Very Little Wear     98%        Includes :       2 - 15 RDS Magazines        Safety:      You, as the buyer are solely responsible for determining that a used gun is safe to shoot. The firearms offered here have NOT been test fired but have only been given a visual inspection for resell purposes. It is a requirement that every used firearm be inspected by a licensed gunsmith before firing. By bidding or purchasing, you the buyer agrees to hold Plano Pawn Shop harmless against damages, injury, or death caused by defective merchandise.      * All firearms MUST be shipped to a licensed FFL dealer. We will not ship until we have a valid copy of your dealers license e-mailed or faxed to us.*        Need a Loan or Have one to sell ?       Do you have the same make and model item? Are you needing a cash loan or wanting to sell your item fast for cash? Get a free quote today by clicking'),\n  14),\n (('http://schema.org/Offer',\n   'http://schema.org/availableAtOrFrom',\n   'http://dig.isi.edu/ontology/memex//place/: 14 + 1 RDS      Choke: N/A     Stock/Grips: Polymer         Condition :       Very Little Wear     95-98%        Includes :       2 - 14 RDS Magazines        Safety:      You, as the buyer are solely responsible for determining that a used gun is safe to shoot. The firearms offered here have NOT been test fired but have only been given a visual inspection for resell purposes. It is a requirement that every used firearm be inspected by a licensed gunsmith before firing. By bidding or purchasing, you the buyer agrees to hold Plano Pawn Shop harmless against damages, injury, or death caused by defective merchandise.      * All firearms MUST be shipped to a licensed FFL dealer. We will not ship until we have a valid copy of your dealers license e-mailed or faxed to us.*        Need a Loan or Have one to sell ?       Do you have the same make and model item? Are you needing a cash loan or wanting to sell your item fast for cash? Get a free quote today by clicking'),\n  14),\n (('http://schema.org/Offer',\n   'http://schema.org/availableAtOrFrom',\n   'http://dig.isi.edu/ontology/memex//place/245625390711756'),\n  14),\n (('http://schema.org/Offer',\n   'http://schema.org/availableAtOrFrom',\n   'http://dig.isi.edu/ontology/memex//place/: 8 RDS      Choke: N/A     Stock/Grips: Crimson Trace Laser Rosewood Checkered Grips         Condition :       Very Little Wear     98%        Includes :       N/A        Safety:      You, as the buyer are solely responsible for determining that a used gun is safe to shoot. The firearms offered here have NOT been test fired but have only been given a visual inspection for resell purposes. It is a requirement that every used firearm be inspected by a licensed gunsmith before firing. By bidding or purchasing, you the buyer agrees to hold Plano Pawn Shop harmless against damages, injury, or death caused by defective merchandise.      * All firearms MUST be shipped to a licensed FFL dealer. We will not ship until we have a valid copy of your dealers license e-mailed or faxed to us.*        Need a Loan or Have one to sell ?       Do you have the same make and model item? Are you needing a cash loan or wanting to sell your item fast for cash? Get a free quote today by clicking'),\n  14),\n (('http://schema.org/Offer',\n   'http://schema.org/availableAtOrFrom',\n   'http://dig.isi.edu/ontology/memex//place/: 10 RDS      Choke: N/A     Stock/Grips: Hardwood Stock         Condition :       90-95%        Includes :        Tasco 3-7x20 Scope     1 - 10 RDS Magazine       Safety:      You, as the buyer are solely responsible for determining that a used gun is safe to shoot. The firearms offered here have NOT been test fired but have only been given a visual inspection for resell purposes. It is a requirement that every used firearm be inspected by a licensed gunsmith before firing. By bidding or purchasing, you the buyer agrees to hold Plano Pawn Shop harmless against damages, injury, or death caused by defective merchandise.      * All firearms MUST be shipped to a licensed FFL dealer. We will not ship until we have a valid copy of your dealers license e-mailed or faxed to us.*        Need a Loan or Have one to sell ?       Do you have the same make and model item? Are you needing a cash loan or wanting to sell your item fast for cash? Get a free quote today by clicking'),\n  14),\n (('http://schema.org/Offer',\n   'http://schema.org/availableAtOrFrom',\n   'http://dig.isi.edu/ontology/memex//place/: 15 RDS      Choke: N/A     Stock/Grips: Polymer        Condition :       Very Little Wear     95%        Includes :       Factory Case      1 - 15 RDS Magazine        Safety:      You, as the buyer are solely responsible for determining that a used gun is safe to shoot. The firearms offered here have NOT been test fired but have only been given a visual inspection for resell purposes. It is a requirement that every used firearm be inspected by a licensed gunsmith before firing. By bidding or purchasing, you the buyer agrees to hold Plano Pawn Shop harmless against damages, injury, or death caused by defective merchandise.      * All firearms MUST be shipped to a licensed FFL dealer. We will not ship until we have a valid copy of your dealers license e-mailed or faxed to us.*        Need a Loan or Have one to sell ?       Do you have the same make and model item? Are you needing a cash loan or wanting to sell your item fast for cash? Get a free quote today by clicking'),\n  14),\n (('http://schema.org/Offer',\n   'http://schema.org/availableAtOrFrom',\n   'http://dig.isi.edu/ontology/memex//place/50155dbf141b1751'),\n  14),\n (('http://schema.org/Offer',\n   'http://schema.org/availableAtOrFrom',\n   'http://dig.isi.edu/ontology/memex//place/: 3 + 1 RDS      Choke: Screw In Win-Choke      Stock/Grips: Hardwood Stock         Condition :       90-95%        Includes :       N/A        Safety:      You, as the buyer are solely responsible for determining that a used gun is safe to shoot. The firearms offered here have NOT been test fired but have only been given a visual inspection for resell purposes. It is a requirement that every used firearm be inspected by a licensed gunsmith before firing. By bidding or purchasing, you the buyer agrees to hold Plano Pawn Shop harmless against damages, injury, or death caused by defective merchandise.      * All firearms MUST be shipped to a licensed FFL dealer. We will not ship until we have a valid copy of your dealers license e-mailed or faxed to us.*        Need a Loan or Have one to sell ?       Do you have the same make and model item? Are you needing a cash loan or wanting to sell your item fast for cash? Get a free quote today by clicking'),\n  14),\n (('http://schema.org/Offer',\n   'http://schema.org/availableAtOrFrom',\n   'http://dig.isi.edu/ontology/memex//place/: 10 RDS      Choke: N/A     Stock/Grips: Polymer Grip         Condition :       Very Little Wear     98%        Includes :       Factory Box     2 Magazines        Safety:      You, as the buyer are solely responsible for determining that a used gun is safe to shoot. The firearms offered here have NOT been test fired but have only been given a visual inspection for resell purposes. It is a requirement that every used firearm be inspected by a licensed gunsmith before firing. By bidding or purchasing, you the buyer agrees to hold Plano Pawn Shop harmless against damages, injury, or death caused by defective merchandise.      * All firearms MUST be shipped to a licensed FFL dealer. We will not ship until we have a valid copy of your dealers license e-mailed or faxed to us.*        Need a Loan or Have one to sell ?       Do you have the same make and model item? Are you needing a cash loan or wanting to sell your item fast for cash? Get a free quote today by clicking'),\n  14),\n (('http://schema.org/Offer',\n   'http://schema.org/availableAtOrFrom',\n   'http://dig.isi.edu/ontology/memex//place/70055a57e7489719'),\n  14),\n (('http://schema.org/Offer',\n   'http://schema.org/availableAtOrFrom',\n   'http://dig.isi.edu/ontology/memex//place/5055ae1b1330bef'),\n  14),\n (('http://schema.org/Offer',\n   'http://schema.org/availableAtOrFrom',\n   \"http://dig.isi.edu/ontology/memex//place/- 10Rd   Accessories - 2 Mags   Description - Rail   Fired Casing - Fired Case   Hand - Right Hand   Sights - Fixed Sights   Manufacturer Part # - 3050201                Tweet                     Price:       $574.99           Manf.:      Glock          Model:      30 Gen3          Condition:      100% (NIB, New In the Box)                                                   Guns Online     Searchable Gun Database     Gun Classifieds         Dallas Guns -  For all your firearm needs!  We specialize in Guns Online!      Visit our  Links  page for Firearm Dealers, Resources, Gun Safety, Concealed Handgun Licenses, and more.  NEED HELP?  CONTACT US                 Can't Find What You Are Looking For?  Use our new powerful search tool located in the TOP LEFT of your screen just under the DallasGuns.com logo.    DallasGuns.com has tons of new and used guns for sale in our searchable firearm classified database, a great resource if you want to buy or sell guns.  Find used guns by brand, find new guns by brand, finish, or caliber.    Dallas Guns now offers a more convenient search tool,  you now have the ability to find items by finish  caliber! For example Search for:  NEW  USED FIREARM ANTIQUES  ,\"),\n  14),\n (('http://schema.org/Offer',\n   'http://schema.org/availableAtOrFrom',\n   'http://dig.isi.edu/ontology/memex//place/2055a2a77318b97'),\n  14)]"
     },
     "execution_count": 4,
     "metadata": {},
     "output_type": "execute_result"
    }
   ],
   "source": [
    "from preprocess.modify_relations import get_relation_counts\n",
    "\n",
    "get_relation_counts(triples)"
   ],
   "metadata": {
    "collapsed": false,
    "pycharm": {
     "name": "#%%\n"
    }
   }
  },
  {
   "cell_type": "code",
   "execution_count": 6,
   "outputs": [],
   "source": [
    "\n",
    "\n",
    "#test_triples = random.sample(triples, floor(len(triples) / 10))\n",
    "#test_triples = [triple for triple in test_triples if triple[0] == 'http://schema.org/Offer' and triple[2] == str(XSD.string)]"
   ],
   "metadata": {
    "collapsed": false,
    "pycharm": {
     "name": "#%%\n"
    }
   }
  },
  {
   "cell_type": "code",
   "execution_count": 7,
   "outputs": [],
   "source": [
    "n_jobs = -1\n",
    "ranges = [3]"
   ],
   "metadata": {
    "collapsed": false,
    "pycharm": {
     "name": "#%%\n"
    }
   }
  },
  {
   "cell_type": "code",
   "execution_count": 8,
   "outputs": [
    {
     "name": "stderr",
     "output_type": "stream",
     "text": [
      "2022-05-15 19:47:05,081 [INFO] - PRE 1 triples\n",
      "[('http://schema.org/Offer', 'http://schema.org/name', 'http://www.w3.org/2001/XMLSchema#string'), 54990]\n",
      "2022-05-15 19:47:05,313 [INFO] - POST 0 triples\n",
      "\n",
      "2022-05-15 19:47:14,562 [INFO] - PRE 1 triples\n",
      "[('http://schema.org/Offer', 'http://schema.org/name', 'http://www.w3.org/2001/XMLSchema#string'), 54990]\n",
      "2022-05-15 19:47:14,812 [INFO] - POST 1 triples\n",
      "[('http://schema.org/Offer', 'http://schema.org/name', 'http://www.w3.org/2001/XMLSchema#string'), 10987]\n",
      "2022-05-15 19:47:24,007 [INFO] - PRE 1 triples\n",
      "[('http://schema.org/Offer', 'http://schema.org/name', 'http://www.w3.org/2001/XMLSchema#string'), 54990]\n",
      "2022-05-15 19:47:24,264 [INFO] - POST 1 triples\n",
      "[('http://schema.org/Offer', 'http://schema.org/name', 'http://www.w3.org/2001/XMLSchema#string'), 21761]\n",
      "2022-05-15 19:47:34,179 [INFO] - PRE 1 triples\n",
      "[('http://schema.org/Offer', 'http://schema.org/name', 'http://www.w3.org/2001/XMLSchema#string'), 54990]\n",
      "2022-05-15 19:47:34,445 [INFO] - POST 1 triples\n",
      "[('http://schema.org/Offer', 'http://schema.org/name', 'http://www.w3.org/2001/XMLSchema#string'), 32916]\n",
      "2022-05-15 19:47:44,364 [INFO] - PRE 1 triples\n",
      "[('http://schema.org/Offer', 'http://schema.org/name', 'http://www.w3.org/2001/XMLSchema#string'), 54990]\n",
      "2022-05-15 19:47:44,635 [INFO] - POST 1 triples\n",
      "[('http://schema.org/Offer', 'http://schema.org/name', 'http://www.w3.org/2001/XMLSchema#string'), 43994]\n",
      "2022-05-15 19:47:54,597 [INFO] - PRE 1 triples\n",
      "[('http://schema.org/Offer', 'http://schema.org/name', 'http://www.w3.org/2001/XMLSchema#string'), 54990]\n",
      "2022-05-15 19:47:54,872 [INFO] - POST 1 triples\n",
      "[('http://schema.org/Offer', 'http://schema.org/name', 'http://www.w3.org/2001/XMLSchema#string'), 54990]\n"
     ]
    }
   ],
   "source": [
    "from util.utilities import prepare_data\n",
    "\n",
    "name_weights = [0.01,0.2,0.4,0.6,0.8,1.0]\n",
    "price_weights = [0.01,0.2,0.4,0.6,0.8,1.0]\n",
    "predictions = []\n",
    "for name_weight in name_weights:\n",
    "    triple_weights = {\n",
    "        ('http://schema.org/Offer', 'http://schema.org/name', 'http://www.w3.org/2001/XMLSchema#string'): name_weight\n",
    "    }\n",
    "    template = armstrader_models\n",
    "    X,y = prepare_data(template,multiply=3, shuffle=True, triple_weights=triple_weights, c_map=classes_mapping, p_map=predicates_mapping, verbose=True)\n",
    "    rfc = RandomForestClassifier()\n",
    "    rfc_model = rfc.fit(X,y)\n",
    "    test_tuple = [classes_mapping['http://schema.org/Offer'], classes_mapping['http://www.w3.org/2001/XMLSchema#string']]\n",
    "    prediction = rfc_model.predict_proba([test_tuple])\n",
    "    prediction = rfc_model.classes_[np.argsort(prediction)[:, ::-1]]\n",
    "    predictions.append({\n",
    "        'name_weight': name_weight,\n",
    "        'prediction': prediction\n",
    "    })\n"
   ],
   "metadata": {
    "collapsed": false,
    "pycharm": {
     "name": "#%%\n"
    }
   }
  },
  {
   "cell_type": "code",
   "execution_count": 9,
   "outputs": [],
   "source": [
    "name_positions = []\n",
    "for prediction in predictions:\n",
    "    # print(prediction)\n",
    "    pred_id = predicates_mapping['http://schema.org/name']\n",
    "    result = prediction['prediction']\n",
    "    name_weight = prediction['name_weight']\n",
    "    position=np.where(result[0] == pred_id)\n",
    "    name_positions.append(position[0][0] + 1)\n",
    "    # print(f'Weight {name_weight} -> Position of \"http://schema.org/name\"({pred_id}): {position[0]+1}')"
   ],
   "metadata": {
    "collapsed": false,
    "pycharm": {
     "name": "#%%\n"
    }
   }
  },
  {
   "cell_type": "code",
   "execution_count": 10,
   "outputs": [],
   "source": [
    "import seaborn as sns\n",
    "from matplotlib import pyplot as plt\n",
    "sns.set_theme(style=\"whitegrid\")\n",
    "data = { 'percentage': name_weights,\n",
    "         'rank': name_positions\n",
    "         }"
   ],
   "metadata": {
    "collapsed": false,
    "pycharm": {
     "name": "#%%\n"
    }
   }
  },
  {
   "cell_type": "code",
   "execution_count": 11,
   "outputs": [],
   "source": [
    "#lineplot = sns.lineplot(data=data, x='percentage', y='rank')\n",
    "#lineplot.axes.set(title=\"Rank of http://schema.org/name\")\n",
    "#plt.savefig(\"figures/name_rank.svg\", dpi=600, format=\"svg\")\n",
    "#plt.show()"
   ],
   "metadata": {
    "collapsed": false,
    "pycharm": {
     "name": "#%%\n"
    }
   }
  },
  {
   "cell_type": "markdown",
   "source": [
    "Price rank manipulation"
   ],
   "metadata": {
    "collapsed": false
   }
  },
  {
   "cell_type": "code",
   "execution_count": 12,
   "outputs": [],
   "source": [
    "weights = [0.01,0.2,0.4,0.6,0.8,1.0]\n",
    "predictions = []\n",
    "for weight in weights:\n",
    "    triple_weights = {\n",
    "        ('http://schema.org/Offer', 'http://schema.org/name', 'http://www.w3.org/2001/XMLSchema#string'): 1.0,\n",
    "        ('http://schema.org/Offer', 'http://schema.org/price', 'http://www.w3.org/2001/XMLSchema#string'): weight,\n",
    "    }\n",
    "    template = armstrader_models\n",
    "    X,y = prepare_data(template,multiply=3, shuffle=True, triple_weights=triple_weights, c_map=classes_mapping, p_map=predicates_mapping, verbose=True)\n",
    "    rfc = RandomForestClassifier()\n",
    "    rfc_model = rfc.fit(X,y)\n",
    "    test_tuple = [classes_mapping['http://schema.org/Offer'], classes_mapping['http://www.w3.org/2001/XMLSchema#string']]\n",
    "    prediction = rfc_model.predict_proba([test_tuple])\n",
    "    prediction = rfc_model.classes_[np.argsort(prediction)[:, ::-1]]\n",
    "    predictions.append({\n",
    "        'price_weight': weight,\n",
    "        'prediction': prediction\n",
    "    })\n",
    "price_positions = []\n",
    "for prediction in predictions:\n",
    "    # print(prediction)\n",
    "    pred_id = predicates_mapping['http://schema.org/price']\n",
    "    result = prediction['prediction']\n",
    "    weight = prediction['price_weight']\n",
    "    position=np.where(result[0] == pred_id)\n",
    "    price_positions.append(position[0][0] + 1)\n",
    "    # print(f'Weight {weight} -> Position of \"http://schema.org/price\"({pred_id}): {position[0]+1}')"
   ],
   "metadata": {
    "collapsed": false,
    "pycharm": {
     "name": "#%%\n"
    }
   }
  },
  {
   "cell_type": "code",
   "execution_count": 13,
   "outputs": [],
   "source": [
    "telephone_weights = [0.01,0.2,0.4,0.6,0.8,1.0]\n",
    "predictions = []\n",
    "for weight in telephone_weights:\n",
    "    triple_weights = {\n",
    "        ('http://schema.dig.isi.edu/ontology/PersonOrOrganization',   'http://schema.org/telephone',   'http://www.w3.org/2001/XMLSchema#string'):weight\n",
    "    }\n",
    "    template = armstrader_models\n",
    "    X,y = prepare_data(template,multiply=3, shuffle=True, triple_weights=triple_weights, c_map=classes_mapping, p_map=predicates_mapping, verbose=True)\n",
    "    rfc = RandomForestClassifier()\n",
    "    rfc_model = rfc.fit(X,y)\n",
    "    test_tuple = [classes_mapping['http://schema.dig.isi.edu/ontology/PersonOrOrganization'], classes_mapping['http://www.w3.org/2001/XMLSchema#string']]\n",
    "    prediction = rfc_model.predict_proba([test_tuple])\n",
    "    prediction = rfc_model.classes_[np.argsort(prediction)[:, ::-1]]\n",
    "    predictions.append({\n",
    "        'weight': weight,\n",
    "        'prediction': prediction\n",
    "    })"
   ],
   "metadata": {
    "collapsed": false,
    "pycharm": {
     "name": "#%%\n"
    }
   }
  },
  {
   "cell_type": "code",
   "execution_count": 14,
   "outputs": [],
   "source": [
    "telephone_positions = []\n",
    "for prediction in predictions:\n",
    "    # print(prediction)\n",
    "    pred_id = predicates_mapping['http://schema.org/telephone']\n",
    "    result = prediction['prediction'][0]\n",
    "    weight = prediction['weight']\n",
    "    position=np.where(result == pred_id)\n",
    "    if not position[0]:\n",
    "        telephone_positions.append(len(predicates_mapping))\n",
    "    else:\n",
    "        telephone_positions.append(position[0][0] + 1)"
   ],
   "metadata": {
    "collapsed": false,
    "pycharm": {
     "name": "#%%\n"
    }
   }
  },
  {
   "cell_type": "code",
   "execution_count": 15,
   "outputs": [
    {
     "data": {
      "text/plain": "            rank :price  rank :name  rank :telephone\npercentage                                          \n0.0                  26          28                9\n0.2                   5           5                3\n0.4                   4           4                3\n0.6                   3           3                3\n0.8                   2           2                2\n1.0                   2           1                2",
      "text/html": "<div>\n<style scoped>\n    .dataframe tbody tr th:only-of-type {\n        vertical-align: middle;\n    }\n\n    .dataframe tbody tr th {\n        vertical-align: top;\n    }\n\n    .dataframe thead th {\n        text-align: right;\n    }\n</style>\n<table border=\"1\" class=\"dataframe\">\n  <thead>\n    <tr style=\"text-align: right;\">\n      <th></th>\n      <th>rank :price</th>\n      <th>rank :name</th>\n      <th>rank :telephone</th>\n    </tr>\n    <tr>\n      <th>percentage</th>\n      <th></th>\n      <th></th>\n      <th></th>\n    </tr>\n  </thead>\n  <tbody>\n    <tr>\n      <th>0.0</th>\n      <td>26</td>\n      <td>28</td>\n      <td>9</td>\n    </tr>\n    <tr>\n      <th>0.2</th>\n      <td>5</td>\n      <td>5</td>\n      <td>3</td>\n    </tr>\n    <tr>\n      <th>0.4</th>\n      <td>4</td>\n      <td>4</td>\n      <td>3</td>\n    </tr>\n    <tr>\n      <th>0.6</th>\n      <td>3</td>\n      <td>3</td>\n      <td>3</td>\n    </tr>\n    <tr>\n      <th>0.8</th>\n      <td>2</td>\n      <td>2</td>\n      <td>2</td>\n    </tr>\n    <tr>\n      <th>1.0</th>\n      <td>2</td>\n      <td>1</td>\n      <td>2</td>\n    </tr>\n  </tbody>\n</table>\n</div>"
     },
     "execution_count": 15,
     "metadata": {},
     "output_type": "execute_result"
    }
   ],
   "source": [
    "import pandas as pd\n",
    "data = { 'percentage': weights,\n",
    "         'rank :price': price_positions,\n",
    "         'rank :name': name_positions,\n",
    "         'rank :telephone': telephone_positions\n",
    "         }\n",
    "df = pd.DataFrame(data)\n",
    "df = df.set_index('percentage')\n",
    "df"
   ],
   "metadata": {
    "collapsed": false,
    "pycharm": {
     "name": "#%%\n"
    }
   }
  },
  {
   "cell_type": "code",
   "execution_count": 16,
   "outputs": [
    {
     "data": {
      "text/plain": "<Figure size 432x288 with 1 Axes>",
      "image/png": "[encoded data removed]"
     },
     "metadata": {},
     "output_type": "display_data"
    }
   ],
   "source": [
    "lineplot = sns.lineplot(data=df, dashes=False)\n",
    "# lineplot.axes.set(title=\"Rank of http://schema.org/price\")\n",
    "sns.despine()\n",
    "plt.savefig(\"figures/modified_relation_ranks.pdf\", dpi=600, format=\"pdf\")\n",
    "plt.show()"
   ],
   "metadata": {
    "collapsed": false,
    "pycharm": {
     "name": "#%%\n"
    }
   }
  },
  {
   "cell_type": "code",
   "execution_count": 16,
   "outputs": [],
   "source": [],
   "metadata": {
    "collapsed": false,
    "pycharm": {
     "name": "#%%\n"
    }
   }
  }
 ],
 "metadata": {
  "kernelspec": {
   "display_name": "Python 3",
   "language": "python",
   "name": "python3"
  },
  "language_info": {
   "codemirror_mode": {
    "name": "ipython",
    "version": 2
   },
   "file_extension": ".py",
   "mimetype": "text/x-python",
   "name": "python",
   "nbconvert_exporter": "python",
   "pygments_lexer": "ipython2",
   "version": "2.7.6"
  }
 },
 "nbformat": 4,
 "nbformat_minor": 0
}